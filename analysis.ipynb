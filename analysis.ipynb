{
 "cells": [
  {
   "cell_type": "code",
   "execution_count": 1,
   "metadata": {},
   "outputs": [],
   "source": [
    "import pandas as pd\n",
    "import re"
   ]
  },
  {
   "cell_type": "code",
   "execution_count": 2,
   "metadata": {},
   "outputs": [],
   "source": [
    "def get_accuracy_first_number(expected, actual):\n",
    "    correct = 0\n",
    "    for index in range(len(expected)):\n",
    "        prediction = re.findall(r\"(?<!\\d)([-]?\\d*\\.?\\d+)\", expected[index])\n",
    "        if len(prediction) == 0: # No number was found in answer\n",
    "            continue\n",
    "        if prediction[0] != int(float(prediction[-1])): # All examples' answers should be integers\n",
    "            continue\n",
    "        if int(prediction[0]) == int(actual[\"answer\"][index]):\n",
    "            correct += 1\n",
    "    return correct / len(actual)"
   ]
  },
  {
   "cell_type": "code",
   "execution_count": 3,
   "metadata": {},
   "outputs": [
    {
     "data": {
      "text/html": [
       "<div>\n",
       "<style scoped>\n",
       "    .dataframe tbody tr th:only-of-type {\n",
       "        vertical-align: middle;\n",
       "    }\n",
       "\n",
       "    .dataframe tbody tr th {\n",
       "        vertical-align: top;\n",
       "    }\n",
       "\n",
       "    .dataframe thead th {\n",
       "        text-align: right;\n",
       "    }\n",
       "</style>\n",
       "<table border=\"1\" class=\"dataframe\">\n",
       "  <thead>\n",
       "    <tr style=\"text-align: right;\">\n",
       "      <th></th>\n",
       "      <th>question</th>\n",
       "      <th>answer</th>\n",
       "      <th>prediction</th>\n",
       "    </tr>\n",
       "  </thead>\n",
       "  <tbody>\n",
       "    <tr>\n",
       "      <th>0</th>\n",
       "      <td>Carry the digit from the tens place.\\n###\\n15 ...</td>\n",
       "      <td>0</td>\n",
       "      <td>1</td>\n",
       "    </tr>\n",
       "    <tr>\n",
       "      <th>1</th>\n",
       "      <td>Carry the digit from the tens place.\\n###\\n15 ...</td>\n",
       "      <td>0</td>\n",
       "      <td>1</td>\n",
       "    </tr>\n",
       "    <tr>\n",
       "      <th>2</th>\n",
       "      <td>Carry the digit from the tens place.\\n###\\n15 ...</td>\n",
       "      <td>0</td>\n",
       "      <td>1</td>\n",
       "    </tr>\n",
       "    <tr>\n",
       "      <th>3</th>\n",
       "      <td>Carry the digit from the tens place.\\n###\\n15 ...</td>\n",
       "      <td>0</td>\n",
       "      <td>1</td>\n",
       "    </tr>\n",
       "    <tr>\n",
       "      <th>4</th>\n",
       "      <td>Carry the digit from the tens place.\\n###\\n15 ...</td>\n",
       "      <td>0</td>\n",
       "      <td>1</td>\n",
       "    </tr>\n",
       "    <tr>\n",
       "      <th>...</th>\n",
       "      <td>...</td>\n",
       "      <td>...</td>\n",
       "      <td>...</td>\n",
       "    </tr>\n",
       "    <tr>\n",
       "      <th>95</th>\n",
       "      <td>Carry the digit from the tens place.\\n###\\n15 ...</td>\n",
       "      <td>9</td>\n",
       "      <td>1</td>\n",
       "    </tr>\n",
       "    <tr>\n",
       "      <th>96</th>\n",
       "      <td>Carry the digit from the tens place.\\n###\\n15 ...</td>\n",
       "      <td>9</td>\n",
       "      <td>1</td>\n",
       "    </tr>\n",
       "    <tr>\n",
       "      <th>97</th>\n",
       "      <td>Carry the digit from the tens place.\\n###\\n15 ...</td>\n",
       "      <td>9</td>\n",
       "      <td>1</td>\n",
       "    </tr>\n",
       "    <tr>\n",
       "      <th>98</th>\n",
       "      <td>Carry the digit from the tens place.\\n###\\n15 ...</td>\n",
       "      <td>9</td>\n",
       "      <td>1</td>\n",
       "    </tr>\n",
       "    <tr>\n",
       "      <th>99</th>\n",
       "      <td>Carry the digit from the tens place.\\n###\\n15 ...</td>\n",
       "      <td>9</td>\n",
       "      <td>1</td>\n",
       "    </tr>\n",
       "  </tbody>\n",
       "</table>\n",
       "<p>100 rows × 3 columns</p>\n",
       "</div>"
      ],
      "text/plain": [
       "                                             question  answer  prediction\n",
       "0   Carry the digit from the tens place.\\n###\\n15 ...       0           1\n",
       "1   Carry the digit from the tens place.\\n###\\n15 ...       0           1\n",
       "2   Carry the digit from the tens place.\\n###\\n15 ...       0           1\n",
       "3   Carry the digit from the tens place.\\n###\\n15 ...       0           1\n",
       "4   Carry the digit from the tens place.\\n###\\n15 ...       0           1\n",
       "..                                                ...     ...         ...\n",
       "95  Carry the digit from the tens place.\\n###\\n15 ...       9           1\n",
       "96  Carry the digit from the tens place.\\n###\\n15 ...       9           1\n",
       "97  Carry the digit from the tens place.\\n###\\n15 ...       9           1\n",
       "98  Carry the digit from the tens place.\\n###\\n15 ...       9           1\n",
       "99  Carry the digit from the tens place.\\n###\\n15 ...       9           1\n",
       "\n",
       "[100 rows x 3 columns]"
      ]
     },
     "execution_count": 3,
     "metadata": {},
     "output_type": "execute_result"
    }
   ],
   "source": [
    "analysis = {}\n",
    "file = \"results/multiplication/carry/flan-t5-base_carry.csv\"\n",
    "results_pd = pd.read_csv(file)\n",
    "results_pd"
   ]
  },
  {
   "cell_type": "code",
   "execution_count": 18,
   "metadata": {},
   "outputs": [],
   "source": [
    "def compare_first_number(expected, actual):\n",
    "    numbers_in_expected = re.findall(r\"(?<!\\d)([-]?\\d*\\.?\\d+)\", str(expected))\n",
    "    if len(numbers_in_expected) == 0:\n",
    "        return False\n",
    "    prediction = numbers_in_expected[0]\n",
    "    return float(prediction) == float(actual)\n",
    "\n",
    "def compare_all_numbers(expected, actual):\n",
    "    numbers_in_expected = re.findall(r\"(?<!\\d)([-]?\\d*\\.?\\d+)\", str(expected))\n",
    "    if len(numbers_in_expected) == 0:\n",
    "        return False\n",
    "    return float(actual) in [float(number) for number in numbers_in_expected]"
   ]
  },
  {
   "cell_type": "code",
   "execution_count": 17,
   "metadata": {},
   "outputs": [
    {
     "data": {
      "text/plain": [
       "0.1"
      ]
     },
     "execution_count": 17,
     "metadata": {},
     "output_type": "execute_result"
    }
   ],
   "source": [
    "first_number_result = [compare_first_number(expected, actual) for expected, actual in zip(results_pd[\"answer\"], results_pd[\"prediction\"])]\n",
    "accuracy = first_number_result.count(True) / len(first_number_result)\n",
    "accuracy"
   ]
  },
  {
   "cell_type": "code",
   "execution_count": 19,
   "metadata": {},
   "outputs": [
    {
     "data": {
      "text/plain": [
       "0.1"
      ]
     },
     "execution_count": 19,
     "metadata": {},
     "output_type": "execute_result"
    }
   ],
   "source": [
    "first_number_result = [compare_all_numbers(expected, actual) for expected, actual in zip(results_pd[\"answer\"], results_pd[\"prediction\"])]\n",
    "accuracy = first_number_result.count(True) / len(first_number_result)\n",
    "accuracy"
   ]
  }
 ],
 "metadata": {
  "kernelspec": {
   "display_name": "compositional",
   "language": "python",
   "name": "python3"
  },
  "language_info": {
   "codemirror_mode": {
    "name": "ipython",
    "version": 3
   },
   "file_extension": ".py",
   "mimetype": "text/x-python",
   "name": "python",
   "nbconvert_exporter": "python",
   "pygments_lexer": "ipython3",
   "version": "3.11.4"
  },
  "orig_nbformat": 4
 },
 "nbformat": 4,
 "nbformat_minor": 2
}
