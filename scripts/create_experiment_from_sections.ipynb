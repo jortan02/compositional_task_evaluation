{
 "cells": [
  {
   "cell_type": "code",
   "execution_count": 2,
   "metadata": {},
   "outputs": [],
   "source": [
    "from datasets_helper import *"
   ]
  },
  {
   "cell_type": "code",
   "execution_count": 3,
   "metadata": {},
   "outputs": [],
   "source": [
    "experiment_paths = [\n",
    "    # \"../results/multiplication/multiply/meta-llama/Llama-2-7b-chat-hf\",\n",
    "    # \"../results/multiplication/multiply-primed-1/meta-llama/Llama-2-7b-chat-hf\",\n",
    "    # \"../results/multiplication/multiply-primed-2/meta-llama/Llama-2-7b-chat-hf\",\n",
    "    # \"../results/multiplication/multiply-primed-3/meta-llama/Llama-2-7b-chat-hf\",\n",
    "    # \"../results/multiplication/multiply-primed-4/meta-llama/Llama-2-7b-chat-hf\",\n",
    "    # \"../results/multiplication/multiply-primed-5/meta-llama/Llama-2-7b-chat-hf\",\n",
    "    # \"../results/multiplication/multiply-primed-6/meta-llama/Llama-2-7b-chat-hf\",\n",
    "    # \"../results/multiplication/multiply-primed-7/meta-llama/Llama-2-7b-chat-hf\",\n",
    "    # \"../results/multiplication/carry/meta-llama/Llama-2-13b-chat-hf\",\n",
    "    # \"../results/multiplication/concatenate/meta-llama/Llama-2-13b-chat-hf\",\n",
    "    # \"../results/multiplication/multiply/meta-llama/Llama-2-13b-chat-hf\",\n",
    "    # \"../results/multiplication/multiply-1-digit/meta-llama/Llama-2-13b-chat-hf\",\n",
    "    # \"../results/multiplication/multiply-primed-1/meta-llama/Llama-2-13b-chat-hf\",\n",
    "    # \"../results/multiplication/multiply-primed-2/meta-llama/Llama-2-13b-chat-hf\",\n",
    "    # \"../results/multiplication/multiply-primed-3/meta-llama/Llama-2-13b-chat-hf\",\n",
    "    # \"../results/multiplication/multiply-primed-4/meta-llama/Llama-2-13b-chat-hf\",\n",
    "    # \"../results/multiplication/multiply-primed-5/meta-llama/Llama-2-13b-chat-hf\",\n",
    "    # \"../results/multiplication/multiply-primed-6/meta-llama/Llama-2-13b-chat-hf\",\n",
    "    # \"../results/multiplication/multiply-primed-7/meta-llama/Llama-2-13b-chat-hf\",\n",
    "    # \"../results/multiplication/sum/meta-llama/Llama-2-13b-chat-hf\",\n",
    "    \"../results/string/wlo-primed-1/meta-llama/Llama-2-13b-chat-hf\",\n",
    "]"
   ]
  },
  {
   "cell_type": "code",
   "execution_count": 4,
   "metadata": {},
   "outputs": [],
   "source": [
    "experiment_folders = [f\"experiment-{index + 1}\" for index in range(10)]"
   ]
  },
  {
   "cell_type": "code",
   "execution_count": 5,
   "metadata": {},
   "outputs": [],
   "source": [
    "experiment_files = [f\"experiment-{index + 1}.csv\" for index in range(10)]"
   ]
  },
  {
   "cell_type": "code",
   "execution_count": 6,
   "metadata": {},
   "outputs": [],
   "source": [
    "for experiment_path in experiment_paths:\n",
    "    for index in range(len(experiment_folders)):\n",
    "        section_path = os.path.join(experiment_path, experiment_folders[index])\n",
    "        output_path = os.path.join(experiment_path, experiment_files[index])\n",
    "        create_experiment_from_sections(section_path, output_path, 10)"
   ]
  }
 ],
 "metadata": {
  "kernelspec": {
   "display_name": "compositional",
   "language": "python",
   "name": "python3"
  },
  "language_info": {
   "codemirror_mode": {
    "name": "ipython",
    "version": 3
   },
   "file_extension": ".py",
   "mimetype": "text/x-python",
   "name": "python",
   "nbconvert_exporter": "python",
   "pygments_lexer": "ipython3",
   "version": "3.1.0"
  }
 },
 "nbformat": 4,
 "nbformat_minor": 2
}
