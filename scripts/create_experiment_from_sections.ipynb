{
 "cells": [
  {
   "cell_type": "code",
   "execution_count": 1,
   "metadata": {},
   "outputs": [],
   "source": [
    "from datasets_helper import *\n",
    "import os"
   ]
  },
  {
   "cell_type": "code",
   "execution_count": 2,
   "metadata": {},
   "outputs": [],
   "source": [
    "STRING_PATH = f\"../results/string-v2/\"\n",
    "CONCATENATE_PATH = os.path.join(STRING_PATH, \"concatenate\")\n",
    "REMOVE_FIRST_PATH = os.path.join(STRING_PATH, \"remove-first\")\n",
    "UPPERCASE_PATH = os.path.join(STRING_PATH, \"uppercase\")\n",
    "WLO_PATH = os.path.join(STRING_PATH, \"wlo\")\n",
    "WLO_PRIMED_1_PATH = os.path.join(STRING_PATH, \"wlo-primed-1\")\n",
    "WLO_PRIMED_2_PATH = os.path.join(STRING_PATH, \"wlo-primed-2\")\n",
    "WLO_PRIMED_3_PATH = os.path.join(STRING_PATH, \"wlo-primed-3\")\n",
    "WLO_PRIMED_4_PATH = os.path.join(STRING_PATH, \"wlo-primed-4\")\n",
    "WLO_PRIMED_5_PATH = os.path.join(STRING_PATH, \"wlo-primed-5\")\n",
    "WLO_PRIMED_6_PATH = os.path.join(STRING_PATH, \"wlo-primed-6\")\n",
    "\n",
    "string_experiment_paths = [\n",
    "    CONCATENATE_PATH,\n",
    "    REMOVE_FIRST_PATH,\n",
    "    UPPERCASE_PATH,\n",
    "    WLO_PATH,\n",
    "    WLO_PRIMED_1_PATH,\n",
    "    WLO_PRIMED_2_PATH,\n",
    "    WLO_PRIMED_3_PATH,\n",
    "    WLO_PRIMED_4_PATH,\n",
    "    WLO_PRIMED_5_PATH,\n",
    "    WLO_PRIMED_6_PATH\n",
    "]"
   ]
  },
  {
   "cell_type": "code",
   "execution_count": 3,
   "metadata": {},
   "outputs": [],
   "source": [
    "MULTIPLICATION_PATH = f\"../results/multiplication/\"\n",
    "CARRY_PATH = os.path.join(MULTIPLICATION_PATH, \"carry\")\n",
    "CONCATENATE_PATH = os.path.join(MULTIPLICATION_PATH, \"concatenate\")\n",
    "MULTIPLY_PATH = os.path.join(MULTIPLICATION_PATH, \"multiply\")\n",
    "MULTIPLY_PRIMED_1_PATH = os.path.join(MULTIPLICATION_PATH, \"multiply-primed-1\")\n",
    "MULTIPLY_PRIMED_2_PATH = os.path.join(MULTIPLICATION_PATH, \"multiply-primed-2\")\n",
    "MULTIPLY_PRIMED_3_PATH = os.path.join(MULTIPLICATION_PATH, \"multiply-primed-3\")\n",
    "MULTIPLY_PRIMED_4_PATH = os.path.join(MULTIPLICATION_PATH, \"multiply-primed-4\")\n",
    "MULTIPLY_PRIMED_5_PATH = os.path.join(MULTIPLICATION_PATH, \"multiply-primed-5\")\n",
    "MULTIPLY_PRIMED_6_PATH = os.path.join(MULTIPLICATION_PATH, \"multiply-primed-6\")\n",
    "MULTIPLY_PRIMED_7_PATH = os.path.join(MULTIPLICATION_PATH, \"multiply-primed-7\")\n",
    "MULTIPLY_1_DIGIT_PATH = os.path.join(MULTIPLICATION_PATH, \"multiply-1-digit\")\n",
    "SUM_PATH = os.path.join(MULTIPLICATION_PATH, \"sum\")\n",
    "\n",
    "multiplication_experiment_paths = [\n",
    "    MULTIPLICATION_PATH,\n",
    "    CARRY_PATH,\n",
    "    CONCATENATE_PATH,\n",
    "    MULTIPLY_PATH,\n",
    "    MULTIPLY_PRIMED_1_PATH,\n",
    "    MULTIPLY_PRIMED_2_PATH,\n",
    "    MULTIPLY_PRIMED_3_PATH,\n",
    "    MULTIPLY_PRIMED_4_PATH,\n",
    "    MULTIPLY_PRIMED_5_PATH,\n",
    "    MULTIPLY_PRIMED_6_PATH,\n",
    "    MULTIPLY_PRIMED_7_PATH,\n",
    "    MULTIPLY_1_DIGIT_PATH,\n",
    "    SUM_PATH,\n",
    "]"
   ]
  },
  {
   "cell_type": "code",
   "execution_count": 4,
   "metadata": {},
   "outputs": [],
   "source": [
    "flan_t5_models = [\n",
    "    \"google/flan-t5-small\",\n",
    "    \"google/flan-t5-base\",\n",
    "    \"google/flan-t5-large\",\n",
    "    \"google/flan-t5-xl\",\n",
    "    \"google/flan-t5-xxl\",\n",
    "]"
   ]
  },
  {
   "cell_type": "code",
   "execution_count": 5,
   "metadata": {},
   "outputs": [],
   "source": [
    "llama_2_models = [\n",
    "    \"meta-llama/Llama-2-7b-chat-hf\",\n",
    "    \"meta-llama/Llama-2-13b-chat-hf\",\n",
    "]"
   ]
  },
  {
   "cell_type": "code",
   "execution_count": 6,
   "metadata": {},
   "outputs": [],
   "source": [
    "def create_experiment(experiment_path, experiment_count: int = 5):\n",
    "    experiment_folders = [f\"experiment-{index + 1}\" for index in range(experiment_count)]\n",
    "    experiment_files = [f\"experiment-{index + 1}.csv\" for index in range(experiment_count)]\n",
    "    for index in range(len(experiment_folders)):\n",
    "        section_path = os.path.join(experiment_path, experiment_folders[index])\n",
    "        output_path = os.path.join(experiment_path, experiment_files[index])\n",
    "        create_experiment_from_sections(section_path, output_path, 10)"
   ]
  },
  {
   "cell_type": "code",
   "execution_count": 7,
   "metadata": {},
   "outputs": [
    {
     "data": {
      "text/plain": [
       "['../results/string-v2/concatenate/meta-llama/Llama-2-7b-chat-hf',\n",
       " '../results/string-v2/remove-first/meta-llama/Llama-2-7b-chat-hf',\n",
       " '../results/string-v2/uppercase/meta-llama/Llama-2-7b-chat-hf',\n",
       " '../results/string-v2/wlo/meta-llama/Llama-2-7b-chat-hf',\n",
       " '../results/string-v2/wlo-primed-1/meta-llama/Llama-2-7b-chat-hf',\n",
       " '../results/string-v2/wlo-primed-2/meta-llama/Llama-2-7b-chat-hf',\n",
       " '../results/string-v2/wlo-primed-3/meta-llama/Llama-2-7b-chat-hf',\n",
       " '../results/string-v2/wlo-primed-4/meta-llama/Llama-2-7b-chat-hf',\n",
       " '../results/string-v2/wlo-primed-5/meta-llama/Llama-2-7b-chat-hf',\n",
       " '../results/string-v2/wlo-primed-6/meta-llama/Llama-2-7b-chat-hf',\n",
       " '../results/string-v2/concatenate/meta-llama/Llama-2-13b-chat-hf',\n",
       " '../results/string-v2/remove-first/meta-llama/Llama-2-13b-chat-hf',\n",
       " '../results/string-v2/uppercase/meta-llama/Llama-2-13b-chat-hf',\n",
       " '../results/string-v2/wlo/meta-llama/Llama-2-13b-chat-hf',\n",
       " '../results/string-v2/wlo-primed-1/meta-llama/Llama-2-13b-chat-hf',\n",
       " '../results/string-v2/wlo-primed-2/meta-llama/Llama-2-13b-chat-hf',\n",
       " '../results/string-v2/wlo-primed-3/meta-llama/Llama-2-13b-chat-hf',\n",
       " '../results/string-v2/wlo-primed-4/meta-llama/Llama-2-13b-chat-hf',\n",
       " '../results/string-v2/wlo-primed-5/meta-llama/Llama-2-13b-chat-hf',\n",
       " '../results/string-v2/wlo-primed-6/meta-llama/Llama-2-13b-chat-hf']"
      ]
     },
     "execution_count": 7,
     "metadata": {},
     "output_type": "execute_result"
    }
   ],
   "source": [
    "[os.path.join(experiment, model) for model in llama_2_models for experiment in string_experiment_paths if os.path.isdir(os.path.join(experiment, model))]"
   ]
  },
  {
   "cell_type": "code",
   "execution_count": 8,
   "metadata": {},
   "outputs": [],
   "source": [
    "# for path in [os.path.join(experiment, model) for model in llama_2_models for experiment in string_experiment_paths if os.path.isdir(os.path.join(experiment, model))]:\n",
    "#     create_experiment(path)"
   ]
  },
  {
   "cell_type": "code",
   "execution_count": 9,
   "metadata": {},
   "outputs": [
    {
     "data": {
      "text/plain": [
       "'../results/multiplication/sum/meta-llama/Llama-2-13b-chat-hf'"
      ]
     },
     "execution_count": 9,
     "metadata": {},
     "output_type": "execute_result"
    }
   ],
   "source": [
    "[os.path.join(experiment, model) for model in llama_2_models for experiment in multiplication_experiment_paths if os.path.isdir(os.path.join(experiment, model))][-1]"
   ]
  },
  {
   "cell_type": "code",
   "execution_count": 10,
   "metadata": {},
   "outputs": [],
   "source": [
    "for path in [os.path.join(experiment, model) for model in llama_2_models for experiment in multiplication_experiment_paths if os.path.isdir(os.path.join(experiment, model))]:\n",
    "    create_experiment(path)"
   ]
  }
 ],
 "metadata": {
  "kernelspec": {
   "display_name": "compositional",
   "language": "python",
   "name": "python3"
  },
  "language_info": {
   "codemirror_mode": {
    "name": "ipython",
    "version": 3
   },
   "file_extension": ".py",
   "mimetype": "text/x-python",
   "name": "python",
   "nbconvert_exporter": "python",
   "pygments_lexer": "ipython3",
   "version": "3.10.13"
  }
 },
 "nbformat": 4,
 "nbformat_minor": 2
}
