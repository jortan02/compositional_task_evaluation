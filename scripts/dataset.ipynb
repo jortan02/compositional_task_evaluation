{
 "cells": [
  {
   "cell_type": "code",
   "execution_count": 1,
   "metadata": {},
   "outputs": [
    {
     "name": "stderr",
     "output_type": "stream",
     "text": [
      "/uufs/chpc.utah.edu/common/home/u1283221/miniconda3/envs/compositional/lib/python3.11/site-packages/tqdm/auto.py:21: TqdmWarning: IProgress not found. Please update jupyter and ipywidgets. See https://ipywidgets.readthedocs.io/en/stable/user_install.html\n",
      "  from .autonotebook import tqdm as notebook_tqdm\n"
     ]
    }
   ],
   "source": [
    "import os\n",
    "import torch\n",
    "from torch.utils.data import DataLoader\n",
    "from tqdm import tqdm\n",
    "from transformers import PreTrainedTokenizer, PreTrainedModel, DataCollatorWithPadding\n",
    "from datasets import load_dataset, Features, Value\n",
    "from datasets_helper import *"
   ]
  },
  {
   "cell_type": "code",
   "execution_count": 2,
   "metadata": {},
   "outputs": [],
   "source": [
    "raw_dataset = load_dataset(\n",
    "    \"csv\",\n",
    "    data_files=\"../data/multiplication-v2/multiply-primed-1.csv\",\n",
    "    features=Features(\n",
    "        {\n",
    "            \"priming_instruction\": Value(\"string\"),\n",
    "            \"priming_question\": Value(\"string\"),\n",
    "            \"priming_answer\": Value(\"string\"),\n",
    "            \"instruction\": Value(\"string\"),\n",
    "            \"example_question\": Value(\"string\"),\n",
    "            \"example_answer\": Value(\"string\"),\n",
    "            \"question\": Value(\"string\"),\n",
    "        }\n",
    "    ),\n",
    ")[\"train\"]"
   ]
  },
  {
   "cell_type": "code",
   "execution_count": 3,
   "metadata": {},
   "outputs": [
    {
     "data": {
      "text/plain": [
       "{'priming_instruction': 'Carry the digit from the tens place.',\n",
       " 'priming_question': 'The result of 59 // 10 is what?',\n",
       " 'priming_answer': '5',\n",
       " 'instruction': 'Multiply two numbers.',\n",
       " 'example_question': 'The result of 36799 * 57443 is what?',\n",
       " 'example_answer': '2113844957',\n",
       " 'question': 'The result of 0 * 0 is what?'}"
      ]
     },
     "execution_count": 3,
     "metadata": {},
     "output_type": "execute_result"
    }
   ],
   "source": [
    "raw_dataset[0]"
   ]
  },
  {
   "cell_type": "code",
   "execution_count": 4,
   "metadata": {},
   "outputs": [
    {
     "name": "stdout",
     "output_type": "stream",
     "text": [
      "[INST] Q: Carry the digit from the tens place.\n",
      "The result of 59 // 10 is what? [\\INST] A: 5\n",
      "\n",
      "[INST] Q: Multiply two numbers.\n",
      "The result of 36799 * 57443 is what? [\\INST] A: 2113844957\n",
      "\n",
      "[INST] Q: Multiply two numbers.\n",
      "The result of 0 * 0 is what? [\\INST] \n"
     ]
    }
   ],
   "source": [
    "sample = raw_dataset[0]\n",
    "print(get_full_prompt(get_llama_2_chat_prompt_format_v2, **sample))"
   ]
  }
 ],
 "metadata": {
  "kernelspec": {
   "display_name": "compositional",
   "language": "python",
   "name": "python3"
  },
  "language_info": {
   "codemirror_mode": {
    "name": "ipython",
    "version": 3
   },
   "file_extension": ".py",
   "mimetype": "text/x-python",
   "name": "python",
   "nbconvert_exporter": "python",
   "pygments_lexer": "ipython3",
   "version": "3.11.4"
  }
 },
 "nbformat": 4,
 "nbformat_minor": 2
}
