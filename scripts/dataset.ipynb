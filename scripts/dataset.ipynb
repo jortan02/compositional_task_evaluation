{
 "cells": [
  {
   "cell_type": "code",
   "execution_count": 1,
   "metadata": {},
   "outputs": [
    {
     "name": "stderr",
     "output_type": "stream",
     "text": [
      "/uufs/chpc.utah.edu/common/home/u1283221/miniconda3/envs/compositional/lib/python3.11/site-packages/tqdm/auto.py:21: TqdmWarning: IProgress not found. Please update jupyter and ipywidgets. See https://ipywidgets.readthedocs.io/en/stable/user_install.html\n",
      "  from .autonotebook import tqdm as notebook_tqdm\n"
     ]
    }
   ],
   "source": [
    "import os\n",
    "import torch\n",
    "from torch.utils.data import DataLoader\n",
    "from tqdm import tqdm\n",
    "from transformers import PreTrainedTokenizer, PreTrainedModel, DataCollatorWithPadding\n",
    "from datasets import load_dataset, Features, Value\n",
    "from datasets_helper import get_full_prompt, get_flan_t5_prompt_format\n"
   ]
  },
  {
   "cell_type": "code",
   "execution_count": 9,
   "metadata": {},
   "outputs": [
    {
     "name": "stderr",
     "output_type": "stream",
     "text": [
      "Downloading data files: 100%|██████████| 1/1 [00:00<00:00, 3603.35it/s]\n",
      "Extracting data files: 100%|██████████| 1/1 [00:00<00:00, 54.54it/s]\n",
      "Generating train split: 65000 examples [00:00, 254069.71 examples/s]\n"
     ]
    }
   ],
   "source": [
    "raw_dataset = load_dataset(\n",
    "    \"csv\",\n",
    "    data_files=\"../data/multiplication/multiply-primed-1.csv\",\n",
    "    features=Features(\n",
    "        {\n",
    "            \"priming_instruction\": Value(\"string\"),\n",
    "            \"priming_question\": Value(\"string\"),\n",
    "            \"priming_answer\": Value(\"string\"),\n",
    "            \"instruction\": Value(\"string\"),\n",
    "            \"example_question\": Value(\"string\"),\n",
    "            \"example_answer\": Value(\"string\"),\n",
    "            \"question\": Value(\"string\"),\n",
    "        }\n",
    "    ),\n",
    ")[\"train\"]"
   ]
  },
  {
   "cell_type": "code",
   "execution_count": 10,
   "metadata": {},
   "outputs": [
    {
     "data": {
      "text/plain": [
       "{'priming_instruction': 'Carry the digit from the tens place.',\n",
       " 'priming_question': '59 // 10 =',\n",
       " 'priming_answer': '5',\n",
       " 'instruction': 'Multiply two numbers.',\n",
       " 'example_question': '63 * 11 =',\n",
       " 'example_answer': '693',\n",
       " 'question': '0 * 0 ='}"
      ]
     },
     "execution_count": 10,
     "metadata": {},
     "output_type": "execute_result"
    }
   ],
   "source": [
    "raw_dataset[0]"
   ]
  },
  {
   "cell_type": "code",
   "execution_count": 11,
   "metadata": {},
   "outputs": [
    {
     "data": {
      "text/plain": [
       "'Q: Carry the digit from the tens place.\\n59 // 10 =\\nA: 5\\n\\nQ: Multiply two numbers.\\n63 * 11 =\\nA: 693\\n\\nQ: Multiply two numbers.\\n0 * 0 =\\nA: '"
      ]
     },
     "execution_count": 11,
     "metadata": {},
     "output_type": "execute_result"
    }
   ],
   "source": [
    "sample = raw_dataset[0]\n",
    "get_full_prompt(get_flan_t5_prompt_format, **sample)"
   ]
  }
 ],
 "metadata": {
  "kernelspec": {
   "display_name": "compositional",
   "language": "python",
   "name": "python3"
  },
  "language_info": {
   "codemirror_mode": {
    "name": "ipython",
    "version": 3
   },
   "file_extension": ".py",
   "mimetype": "text/x-python",
   "name": "python",
   "nbconvert_exporter": "python",
   "pygments_lexer": "ipython3",
   "version": "3.11.4"
  }
 },
 "nbformat": 4,
 "nbformat_minor": 2
}
