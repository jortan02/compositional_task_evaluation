{
 "cells": [
  {
   "cell_type": "code",
   "execution_count": null,
   "metadata": {},
   "outputs": [],
   "source": [
    "def prompt_format(instruction, example, question=\"\", priming=\"\", answer=\"\"):\n",
    "  prompt = f\"{priming}\\n\" if len(priming) > 0 else \"\"\n",
    "  answer = f\" {answer}\" if len(answer) > 0 else \"\"\n",
    "  prompt += \\\n",
    "  (\n",
    "  f\"{instruction}\\n\"\n",
    "  \"###\\n\"\n",
    "  f\"{example}\\n\"\n",
    "  \"###\\n\"\n",
    "  f\"{question}{answer}\"\n",
    "  )\n",
    "  return prompt\n",
    "\n",
    "def create_priming(datasets: list[dict[str, str]], seed: int|None):\n",
    "  random.seed(seed)\n",
    "  priming = \"\"\n",
    "  for dataset_index, dataset in enumerate(datasets):\n",
    "    prompt_index = random.randint(0, len(dataset[\"questions\"]) - 1)\n",
    "    question = dataset[\"questions\"][prompt_index]\n",
    "    answer = dataset[\"answers\"][prompt_index]\n",
    "    example = f\"{question} {answer}\"\n",
    "    priming += prompt_format(\n",
    "      instruction=dataset[\"instruction\"],\n",
    "      example=example,\n",
    "    )\n",
    "    # if dataset_index != len(datasets) - 1:\n",
    "    #   priming += \"\\n\"\n",
    "  return priming    "
   ]
  }
 ],
 "metadata": {
  "kernelspec": {
   "display_name": "compositional",
   "language": "python",
   "name": "python3"
  },
  "language_info": {
   "name": "python",
   "version": "3.11.4"
  }
 },
 "nbformat": 4,
 "nbformat_minor": 2
}
